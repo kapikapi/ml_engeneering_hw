{
 "cells": [
  {
   "cell_type": "code",
   "execution_count": null,
   "id": "996d789f-9195-42b8-add8-3fe319762729",
   "metadata": {},
   "outputs": [],
   "source": [
    "import pandas as pd\n",
    "from collections import Counter\n",
    "import numpy as np\n",
    "from scipy.sparse import csr_matrix\n",
    "from sklearn.decomposition import TruncatedSVD"
   ]
  },
  {
   "cell_type": "code",
   "execution_count": null,
   "id": "085b8d13-0b5b-4d4c-bcfe-df12bad5d002",
   "metadata": {},
   "outputs": [],
   "source": [
    "train_data = pd.read_csv(\"static/data/train_data.csv\", index_col=0).reset_index(drop=True)\n",
    "test_data = pd.read_csv(\"static/data/test_data.csv\", index_col=0).reset_index(drop=True)"
   ]
  },
  {
   "cell_type": "code",
   "execution_count": null,
   "id": "aa38e461-0883-432d-9182-104d7ad7497b",
   "metadata": {},
   "outputs": [],
   "source": [
    "train_data.head()"
   ]
  },
  {
   "cell_type": "code",
   "execution_count": null,
   "id": "24b9b409-0abd-4cb1-af10-f186c088f68b",
   "metadata": {},
   "outputs": [],
   "source": [
    "true_recs = test_data.groupby('user_id')['product_id'].apply(list).reset_index(name='recs')\n",
    "true_recs"
   ]
  },
  {
   "cell_type": "code",
   "execution_count": null,
   "id": "d0065fdf-e7d1-4450-b66b-2b273079cae4",
   "metadata": {},
   "outputs": [],
   "source": [
    "train_users = set(train_data.user_id)\n",
    "test_users = set(test_data.user_id)"
   ]
  },
  {
   "cell_type": "code",
   "execution_count": null,
   "id": "f12ede93-14f0-46d7-a38a-53ea53812800",
   "metadata": {},
   "outputs": [],
   "source": [
    "train_products = set(train_data.product_id)\n",
    "test_products = set(test_data.product_id)"
   ]
  },
  {
   "cell_type": "code",
   "execution_count": null,
   "id": "788ebf53-ad2d-403b-a4a1-d4424c95611f",
   "metadata": {},
   "outputs": [],
   "source": [
    "all_user_ids = train_users | set(test_users)\n",
    "all_product_ids = set(train_products) | set(test_products)"
   ]
  },
  {
   "cell_type": "code",
   "execution_count": null,
   "id": "8ae55936-9c6a-493e-9018-c3f2d8815526",
   "metadata": {},
   "outputs": [],
   "source": [
    "class BaseRecommender:\n",
    "  def __init__(self):\n",
    "    self.model = None\n",
    "    self.user_pos = {}\n",
    "    self.pos_user = {}\n",
    "    self.product_pos = {}\n",
    "    self.pos_product = {}\n",
    "\n",
    "  def _set_user_pos_mapping(self, all_user_ids):\n",
    "    self.user_pos = {user: idx for idx, user in enumerate(all_user_ids)}\n",
    "    self.pos_user = {value: key for key, value in self.user_pos.items()}\n",
    "\n",
    "  def _set_product_pos_mapping(self, all_product_ids):\n",
    "    self.product_pos = {product: idx for idx, product in enumerate(all_product_ids)}\n",
    "    self.pos_product = {value: key for key, value in self.product_pos.items()}\n",
    "\n",
    "  def _get_counts_df(self, df, column_names):\n",
    "    return (df\n",
    "            .groupby([column_names['user'], column_names['item']])[[column_names['group_id']]]\n",
    "            .count()\n",
    "            .reset_index()\n",
    "            .rename(columns={column_names['group_id']:\"count\"}))\n",
    "\n",
    "  def get_interactions_matrix(self, train_data, column_names):\n",
    "    train_data_count = self._get_counts_df(train_data, column_names)\n",
    "    rows = [self.user_pos[user] for user in train_data_count[column_names['user']].values]\n",
    "    cols = [self.product_pos[product] for product in train_data_count[column_names['item']].values]\n",
    "    return csr_matrix((train_data_count['count'].values, (rows, cols)),\n",
    "                      shape=(len(self.pos_user.keys()), len(self.pos_product.keys())))\n",
    "\n",
    "  def fit(self):\n",
    "    pass\n",
    "\n",
    "  def predict(self):\n",
    "    pass\n",
    "\n",
    "  def _p_k(self, y_true, y_pred, k):\n",
    "    return len(np.intersect1d(y_pred[:k], y_true[:k])) / k\n",
    "\n",
    "  def map_k(self, y_true, y_pred, k):\n",
    "    res = 0\n",
    "    for i in range(k):\n",
    "      p_i = self._p_k(y_true, y_pred, i + 1)\n",
    "      r_true = 1 if y_pred[i] in y_true[:k] else 0\n",
    "      res = res + r_true * p_i\n",
    "    return res / k\n",
    "\n",
    "  def hit_rate_k(self, y_true, y_pred, k):\n",
    "    return 1 if len(np.intersect1d(y_pred[:k], y_true[:k])) > 0 else 0\n",
    "\n",
    "  def ndcg_k(self, y_true, y_pred, k):\n",
    "    dcg_k = 0\n",
    "    for i in range(k):\n",
    "      r_true = 1 if y_pred[i] in y_true[:k] else 0\n",
    "      dcg_k = dcg_k + r_true * np.log2(i + 1)\n",
    "    idcg_k = np.sum([1 / np.log2(i + 2) for i in range(k)])\n",
    "    return dcg_k / idcg_k\n",
    "\n",
    "  def avg_metric(self, y_true, y_pred, metric, k=None):\n",
    "    merged = pd.merge(y_true, y_pred, on='user_id', how='right', suffixes=('_true', '_pred'))\n",
    "    merged['recs_true'] = merged['recs_true'].apply(lambda x: x if isinstance(x, list) else [])\n",
    "    l = [metric(row['recs_true'], row['recs_pred'], k) for idx, row in merged.iterrows()]\n",
    "    return np.mean(l)\n",
    "\n",
    "  def print_metrics(self, true_res, predicted_res, k_values=(3, 5, 10)):\n",
    "    str_metrics = ''\n",
    "    for k in k_values:\n",
    "      hit_rate_avg = round(self.avg_metric(true_res, predicted_res, self.hit_rate_k, k), 3)\n",
    "      map_avg = round(self.avg_metric(true_res, predicted_res, self.map_k, k), 3)\n",
    "      ndcg_avg = round(self.avg_metric(true_res, predicted_res, self.ndcg_k, k), 3)\n",
    "      metric_line = f'HitRate@{k}: {hit_rate_avg}; MAP@{k}: {map_avg}; NDCG@{k}: {ndcg_avg};'\n",
    "      str_metrics += metric_line + '\\n'\n",
    "    return str_metrics\n",
    "    "
   ]
  },
  {
   "cell_type": "code",
   "execution_count": null,
   "id": "84fa4816-4ef4-4079-85ad-d449cb915878",
   "metadata": {},
   "outputs": [],
   "source": [
    "class SvdRecommender(BaseRecommender):\n",
    "  def __init__(self, user_ids, product_ids, n_components=500):\n",
    "    self._set_user_pos_mapping(user_ids)\n",
    "    self._set_product_pos_mapping(product_ids)\n",
    "    self.n_components = n_components\n",
    "    self.users_repres = None\n",
    "    self.products_repres = None\n",
    "  \n",
    "  def fit(self, train_data, column_names):\n",
    "    interactions_matrix = self.get_interactions_matrix(train_data, column_names)\n",
    "    self.model = TruncatedSVD(random_state=0, n_components=self.n_components)\n",
    "    self.users_repres = self.model.fit_transform(interactions_matrix)\n",
    "    self.products_repres = self.model.components_\n",
    "    print(f'User representaions have size: {self.users_repres.shape}')\n",
    "    print(f'Item representaions have size: {self.products_repres.shape}')\n",
    "    return self.model\n",
    "\n",
    "  def predict(self, test_users, n_recs, batch_number=100):\n",
    "    batches_users = np.array_split(test_users, batch_number)\n",
    "    result_list = []\n",
    "    for batch in batches_users:\n",
    "      predicted_batch = self._predict_batch(batch, 10)\n",
    "      result_list += predicted_batch\n",
    "    return pd.DataFrame.from_records(result_list).sort_values('user_id').reset_index(drop=True)\n",
    "\n",
    "  def _predict_batch(self, test_users_batch, n_recs):\n",
    "    recs = []\n",
    "    batch_users_pos = [self.user_pos[user] for user in test_users_batch]\n",
    "    batch_user_ratings = np.dot(self.users_repres[batch_users_pos, :], self.products_repres)\n",
    "    sorted_recs = batch_user_ratings.argsort()[:, ::-1][:, :n_recs]\n",
    "    for i, user in enumerate(batch_users_pos):\n",
    "      recs_dict = {'user_id': self.pos_user[user],\n",
    "                   'recs': [self.pos_product[rec] for rec in sorted_recs[i, :]]}\n",
    "      recs.append(recs_dict)\n",
    "    \n",
    "    return recs"
   ]
  },
  {
   "cell_type": "code",
   "execution_count": null,
   "id": "50b5beb2-4470-4c63-b488-51351c3c749b",
   "metadata": {},
   "outputs": [],
   "source": [
    "svd_columns = {'user': 'user_id', 'item': 'product_id', 'group_id': 'order_id'}"
   ]
  },
  {
   "cell_type": "code",
   "execution_count": null,
   "id": "ad07ea7e-6c15-4842-a8c9-9e55a6adf063",
   "metadata": {},
   "outputs": [],
   "source": [
    "svd_recommender = SvdRecommender(all_user_ids, all_product_ids, n_components=500)"
   ]
  },
  {
   "cell_type": "code",
   "execution_count": null,
   "id": "7ca14a9a-fad4-4230-a453-6bb5280daa92",
   "metadata": {},
   "outputs": [],
   "source": [
    "svd_recommender.fit(train_data, svd_columns)"
   ]
  },
  {
   "cell_type": "code",
   "execution_count": null,
   "id": "81f08c9c-0239-40fa-ad9c-6e3675334915",
   "metadata": {},
   "outputs": [],
   "source": [
    "svd_recs = svd_recommender.predict(list(test_users), 10)\n",
    "svd_recs"
   ]
  },
  {
   "cell_type": "code",
   "execution_count": null,
   "id": "b11e7ea9-9e8c-487d-bd78-9b1954a89637",
   "metadata": {},
   "outputs": [],
   "source": [
    "metrics = svd_recommender.print_metrics(true_recs, svd_recs)"
   ]
  },
  {
   "cell_type": "code",
   "execution_count": null,
   "id": "13c137d6-90e8-4d5c-bf1e-999091b73884",
   "metadata": {},
   "outputs": [],
   "source": [
    "print(metrics)"
   ]
  },
  {
   "cell_type": "code",
   "execution_count": null,
   "id": "676f4296-f9de-444e-ab80-dc55578fa280",
   "metadata": {},
   "outputs": [],
   "source": [
    "with open(\"static/metrics.txt\", \"w\") as text_file:\n",
    "    text_file.write(metrics)"
   ]
  },
  {
   "cell_type": "code",
   "execution_count": null,
   "id": "be0b21d5-ac52-4525-ad0c-8e9f3890776b",
   "metadata": {},
   "outputs": [],
   "source": []
  }
 ],
 "metadata": {
  "kernelspec": {
   "display_name": "Python 3 (ipykernel)",
   "language": "python",
   "name": "python3"
  },
  "language_info": {
   "codemirror_mode": {
    "name": "ipython",
    "version": 3
   },
   "file_extension": ".py",
   "mimetype": "text/x-python",
   "name": "python",
   "nbconvert_exporter": "python",
   "pygments_lexer": "ipython3",
   "version": "3.8.10"
  }
 },
 "nbformat": 4,
 "nbformat_minor": 5
}
